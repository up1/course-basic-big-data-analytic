{
 "cells": [
  {
   "cell_type": "markdown",
   "id": "83bd5317-bd7b-4cf8-8a1a-8bbebd073828",
   "metadata": {},
   "source": [
    "## Start session"
   ]
  },
  {
   "cell_type": "code",
   "execution_count": 1,
   "id": "e382f300-5244-4a7b-b022-d1e73d71fc8f",
   "metadata": {},
   "outputs": [
    {
     "name": "stderr",
     "output_type": "stream",
     "text": [
      "WARNING: Using incubator modules: jdk.incubator.vector\n",
      "Using Spark's default log4j profile: org/apache/spark/log4j2-defaults.properties\n",
      "Setting default log level to \"WARN\".\n",
      "To adjust logging level use sc.setLogLevel(newLevel). For SparkR, use setLogLevel(newLevel).\n",
      "25/09/17 15:22:50 WARN NativeCodeLoader: Unable to load native-hadoop library for your platform... using builtin-java classes where applicable\n",
      "25/09/17 15:22:53 WARN Utils: Service 'SparkUI' could not bind on port 4040. Attempting port 4041.\n"
     ]
    },
    {
     "data": {
      "text/html": [
       "\n",
       "            <div>\n",
       "                <p><b>SparkSession - in-memory</b></p>\n",
       "                \n",
       "        <div>\n",
       "            <p><b>SparkContext</b></p>\n",
       "\n",
       "            <p><a href=\"http://spark-server-01:4041\">Spark UI</a></p>\n",
       "\n",
       "            <dl>\n",
       "              <dt>Version</dt>\n",
       "                <dd><code>v4.0.1</code></dd>\n",
       "              <dt>Master</dt>\n",
       "                <dd><code>local[*]</code></dd>\n",
       "              <dt>AppName</dt>\n",
       "                <dd><code>DataFrame HandsOn 1</code></dd>\n",
       "            </dl>\n",
       "        </div>\n",
       "        \n",
       "            </div>\n",
       "        "
      ],
      "text/plain": [
       "<pyspark.sql.session.SparkSession at 0x754eacd95010>"
      ]
     },
     "execution_count": 1,
     "metadata": {},
     "output_type": "execute_result"
    }
   ],
   "source": [
    "# !pip install pyspark\n",
    "\n",
    "from pyspark.sql import SparkSession\n",
    "\n",
    "spark = (SparkSession.builder\n",
    "          .master(\"local[*]\") \\\n",
    "          .appName(\"DataFrame HandsOn 1\") \\\n",
    "          .config(\"spark.ui.showConsoleProgress\",\"false\") \\\n",
    "          .getOrCreate()\n",
    "        )\n",
    "\n",
    "spark"
   ]
  },
  {
   "cell_type": "markdown",
   "id": "246c9a77-8b65-4da6-8c3d-ff86841c3fa9",
   "metadata": {},
   "source": [
    "## Read data"
   ]
  },
  {
   "cell_type": "code",
   "execution_count": 2,
   "id": "6952e2ee-9043-45e7-9cc2-26def5f9f206",
   "metadata": {},
   "outputs": [
    {
     "name": "stdout",
     "output_type": "stream",
     "text": [
      "InvoiceNo,StockCode,Description,Quantity,InvoiceDate,UnitPrice,CustomerID,Country\n",
      "536365,85123A,WHITE HANGING HEART T-LIGHT HOLDER,6,12/1/2010 8:26,2.55,17850,United Kingdom\n",
      "536365,71053,WHITE METAL LANTERN,6,12/1/2010 8:26,3.39,17850,United Kingdom\n"
     ]
    }
   ],
   "source": [
    "!gzip -cd ./data/online-retail-dataset.csv.gz 2>&1| head -n3"
   ]
  },
  {
   "cell_type": "code",
   "execution_count": 4,
   "id": "c35caf34-2625-4fab-bf56-d89d1a5e5bd2",
   "metadata": {},
   "outputs": [],
   "source": [
    "online_retail_schema=\"InvoiceNo int, StockCode string, Description string, Quantity int,\\\n",
    "InvoiceDate timestamp,UnitPrice float,CustomerId int, Country string\""
   ]
  },
  {
   "cell_type": "code",
   "execution_count": 5,
   "id": "bdb69451-785f-4d7e-acd8-92fe9a6086cb",
   "metadata": {},
   "outputs": [],
   "source": [
    "df = (spark.read\n",
    "        .option(\"header\", \"true\")\n",
    "        .option(\"timestampFormat\", \"M/d/yyyy H:m\")\n",
    "        .csv(\"./data/online-retail-dataset.csv.gz\",\n",
    "             schema=online_retail_schema)\n",
    "     )"
   ]
  },
  {
   "cell_type": "code",
   "execution_count": 6,
   "id": "ab98b2d7-4f86-4b78-b784-2a0990f111f5",
   "metadata": {},
   "outputs": [
    {
     "name": "stdout",
     "output_type": "stream",
     "text": [
      "+---------+---------+----------------------------------+--------+-------------------+---------+----------+--------------+\n",
      "|InvoiceNo|StockCode|Description                       |Quantity|InvoiceDate        |UnitPrice|CustomerId|Country       |\n",
      "+---------+---------+----------------------------------+--------+-------------------+---------+----------+--------------+\n",
      "|536365   |85123A   |WHITE HANGING HEART T-LIGHT HOLDER|6       |2010-12-01 08:26:00|2.55     |17850     |United Kingdom|\n",
      "|536365   |71053    |WHITE METAL LANTERN               |6       |2010-12-01 08:26:00|3.39     |17850     |United Kingdom|\n",
      "+---------+---------+----------------------------------+--------+-------------------+---------+----------+--------------+\n",
      "only showing top 2 rows\n"
     ]
    }
   ],
   "source": [
    "df.show(2, False)"
   ]
  },
  {
   "cell_type": "code",
   "execution_count": 7,
   "id": "0b92dfa5-d131-42e0-9cc5-44f1a029f0e4",
   "metadata": {},
   "outputs": [
    {
     "name": "stdout",
     "output_type": "stream",
     "text": [
      "root\n",
      " |-- InvoiceNo: integer (nullable = true)\n",
      " |-- StockCode: string (nullable = true)\n",
      " |-- Description: string (nullable = true)\n",
      " |-- Quantity: integer (nullable = true)\n",
      " |-- InvoiceDate: timestamp (nullable = true)\n",
      " |-- UnitPrice: float (nullable = true)\n",
      " |-- CustomerId: integer (nullable = true)\n",
      " |-- Country: string (nullable = true)\n",
      "\n"
     ]
    }
   ],
   "source": [
    "df.printSchema()"
   ]
  },
  {
   "cell_type": "markdown",
   "id": "0b0101e0-4900-41d0-ae24-d14a770aba3f",
   "metadata": {},
   "source": [
    "## Hands-On 2 - Spark Transformations - select, add, rename and drop columns"
   ]
  },
  {
   "cell_type": "markdown",
   "id": "2cd9ceb3-1a8c-4d2e-b7cf-8e4d70683caa",
   "metadata": {},
   "source": [
    "Select dataframe columns"
   ]
  },
  {
   "cell_type": "code",
   "execution_count": 8,
   "id": "84557a00-0ae7-4801-813a-c4c8b7f1ab94",
   "metadata": {},
   "outputs": [
    {
     "name": "stdout",
     "output_type": "stream",
     "text": [
      "+--------------+\n",
      "|       Country|\n",
      "+--------------+\n",
      "|United Kingdom|\n",
      "|United Kingdom|\n",
      "+--------------+\n",
      "only showing top 2 rows\n"
     ]
    }
   ],
   "source": [
    "# select single column\n",
    "\n",
    "df.select(\"Country\").show(2)"
   ]
  },
  {
   "cell_type": "markdown",
   "id": "ca1ee875-70bd-452f-9960-251daaa3bc22",
   "metadata": {},
   "source": [
    "Select multiple columns"
   ]
  },
  {
   "cell_type": "code",
   "execution_count": 9,
   "id": "cff2a7e4-c569-477d-9351-54a1bd05b6b7",
   "metadata": {},
   "outputs": [
    {
     "name": "stdout",
     "output_type": "stream",
     "text": [
      "+---------+----------------------------------+---------+\n",
      "|StockCode|Description                       |UnitPrice|\n",
      "+---------+----------------------------------+---------+\n",
      "|85123A   |WHITE HANGING HEART T-LIGHT HOLDER|2.55     |\n",
      "|71053    |WHITE METAL LANTERN               |3.39     |\n",
      "+---------+----------------------------------+---------+\n",
      "only showing top 2 rows\n"
     ]
    }
   ],
   "source": [
    "df.select(\"StockCode\",\"Description\",\"UnitPrice\").show(n=2, truncate=False)"
   ]
  },
  {
   "cell_type": "code",
   "execution_count": 10,
   "id": "af818a1f-622f-4cab-90b9-a2d990e442a3",
   "metadata": {},
   "outputs": [
    {
     "data": {
      "text/plain": [
       "['InvoiceNo',\n",
       " 'StockCode',\n",
       " 'Description',\n",
       " 'Quantity',\n",
       " 'InvoiceDate',\n",
       " 'UnitPrice',\n",
       " 'CustomerId',\n",
       " 'Country']"
      ]
     },
     "execution_count": 10,
     "metadata": {},
     "output_type": "execute_result"
    }
   ],
   "source": [
    "df.columns"
   ]
  },
  {
   "cell_type": "code",
   "execution_count": 11,
   "id": "d5f99835-6627-4974-a3be-e2875001d9f6",
   "metadata": {},
   "outputs": [
    {
     "name": "stdout",
     "output_type": "stream",
     "text": [
      "+---------+---------+--------------------+--------+-------------------+\n",
      "|InvoiceNo|StockCode|         Description|Quantity|        InvoiceDate|\n",
      "+---------+---------+--------------------+--------+-------------------+\n",
      "|   536365|   85123A|WHITE HANGING HEA...|       6|2010-12-01 08:26:00|\n",
      "|   536365|    71053| WHITE METAL LANTERN|       6|2010-12-01 08:26:00|\n",
      "+---------+---------+--------------------+--------+-------------------+\n",
      "only showing top 2 rows\n"
     ]
    }
   ],
   "source": [
    "# select first 5 columns\n",
    "df.select(df.columns[0:5]).show(2)"
   ]
  },
  {
   "cell_type": "code",
   "execution_count": 12,
   "id": "42e89730-3f95-4a6d-a8fa-1f35e9f07c71",
   "metadata": {},
   "outputs": [
    {
     "name": "stdout",
     "output_type": "stream",
     "text": [
      "+---------+---------+--------------------+--------+-------------------+---------+----------+--------------+-------------+\n",
      "|InvoiceNo|StockCode|         Description|Quantity|        InvoiceDate|UnitPrice|CustomerId|       Country|HighValueItem|\n",
      "+---------+---------+--------------------+--------+-------------------+---------+----------+--------------+-------------+\n",
      "|   536365|   85123A|WHITE HANGING HEA...|       6|2010-12-01 08:26:00|     2.55|     17850|United Kingdom|        false|\n",
      "|   536365|    71053| WHITE METAL LANTERN|       6|2010-12-01 08:26:00|     3.39|     17850|United Kingdom|        false|\n",
      "+---------+---------+--------------------+--------+-------------------+---------+----------+--------------+-------------+\n",
      "only showing top 2 rows\n"
     ]
    }
   ],
   "source": [
    "# selects all the original columns and adds a new column that specifies high value item\n",
    "(df.selectExpr(\n",
    "   \"*\", # all original columns\n",
    "   \"(UnitPrice > 100) as HighValueItem\")\n",
    "   .show(2)\n",
    ")"
   ]
  },
  {
   "cell_type": "code",
   "execution_count": 13,
   "id": "9e02ce95-32a9-4cdb-9b91-73387237d5ad",
   "metadata": {},
   "outputs": [
    {
     "name": "stdout",
     "output_type": "stream",
     "text": [
      "+-------------+--------------+\n",
      "|TotalQuantity|InventoryValue|\n",
      "+-------------+--------------+\n",
      "|      5176450|       2498803|\n",
      "+-------------+--------------+\n",
      "\n"
     ]
    }
   ],
   "source": [
    "# selects all the original columns and adds a new column that specifies high value item\n",
    "(df.selectExpr(\n",
    "  \"sum(Quantity) as TotalQuantity\",\n",
    "  \"cast(sum(UnitPrice) as int) as InventoryValue\")\n",
    "  .show()\n",
    ")"
   ]
  },
  {
   "cell_type": "markdown",
   "id": "f8996b4f-e559-4566-84a9-14717f3e603e",
   "metadata": {},
   "source": [
    "## Adding, renaming and dropping columns"
   ]
  },
  {
   "cell_type": "code",
   "execution_count": 14,
   "id": "65dd92bd-6cde-43b8-9f2b-c4fbf4c3223f",
   "metadata": {},
   "outputs": [
    {
     "name": "stdout",
     "output_type": "stream",
     "text": [
      "+---------+----------------------------------+---------+--------+------------------+\n",
      "|InvoiceNo|Description                       |UnitPrice|Quantity|InvoiceValue      |\n",
      "+---------+----------------------------------+---------+--------+------------------+\n",
      "|536365   |WHITE HANGING HEART T-LIGHT HOLDER|2.55     |6       |15.299999713897705|\n",
      "|536365   |WHITE METAL LANTERN               |3.39     |6       |20.34000062942505 |\n",
      "+---------+----------------------------------+---------+--------+------------------+\n",
      "only showing top 2 rows\n",
      "+---------+----------------------------------+---------+--------+------------------+\n",
      "|InvoiceNo|Description                       |UnitPrice|Quantity|LineTotal         |\n",
      "+---------+----------------------------------+---------+--------+------------------+\n",
      "|536365   |WHITE HANGING HEART T-LIGHT HOLDER|2.55     |6       |15.299999713897705|\n",
      "|536365   |WHITE METAL LANTERN               |3.39     |6       |20.34000062942505 |\n",
      "+---------+----------------------------------+---------+--------+------------------+\n",
      "only showing top 2 rows\n",
      "+---------+----------------------------------+---------+--------+\n",
      "|InvoiceNo|Description                       |UnitPrice|Quantity|\n",
      "+---------+----------------------------------+---------+--------+\n",
      "|536365   |WHITE HANGING HEART T-LIGHT HOLDER|2.55     |6       |\n",
      "|536365   |WHITE METAL LANTERN               |3.39     |6       |\n",
      "+---------+----------------------------------+---------+--------+\n",
      "only showing top 2 rows\n"
     ]
    }
   ],
   "source": [
    "# add a new column called InvoiceValue\n",
    "from pyspark.sql.functions import expr\n",
    "df_1 = (df\n",
    "        .withColumn(\"InvoiceValue\", expr(\"UnitPrice * Quantity\"))\n",
    "        .select(\"InvoiceNo\",\"Description\",\"UnitPrice\",\"Quantity\",\"InvoiceValue\")\n",
    "       )\n",
    "df_1.show(2, False)\n",
    "\n",
    "# rename InvoiceValue to LineTotal\n",
    "df_2 = df_1.withColumnRenamed(\"InvoiceValue\",\"LineTotal\")\n",
    "df_2.show(2, False)\n",
    "\n",
    "# drop a column\n",
    "df_2.drop(\"LineTotal\").show(2, False)"
   ]
  },
  {
   "cell_type": "markdown",
   "id": "c23cb52b-ade6-4230-ba75-6bc52f8caf2f",
   "metadata": {},
   "source": [
    "## Hands-On 3 - Spark Transformations - filter, sort and cast"
   ]
  },
  {
   "cell_type": "code",
   "execution_count": 15,
   "id": "52cf4f42-b078-4c84-bd48-36460006ff55",
   "metadata": {},
   "outputs": [
    {
     "name": "stdout",
     "output_type": "stream",
     "text": [
      "+---------+---------+--------------------+--------+-------------------+---------+----------+--------------+\n",
      "|InvoiceNo|StockCode|         Description|Quantity|        InvoiceDate|UnitPrice|CustomerId|       Country|\n",
      "+---------+---------+--------------------+--------+-------------------+---------+----------+--------------+\n",
      "|   556444|    22502|PICNIC BASKET WIC...|      60|2011-06-10 15:28:00|    649.5|     15098|United Kingdom|\n",
      "+---------+---------+--------------------+--------+-------------------+---------+----------+--------------+\n",
      "\n",
      "+---------+---------+--------------------+--------+-------------------+---------+----------+--------------+\n",
      "|InvoiceNo|StockCode|         Description|Quantity|        InvoiceDate|UnitPrice|CustomerId|       Country|\n",
      "+---------+---------+--------------------+--------+-------------------+---------+----------+--------------+\n",
      "|   556444|    22502|PICNIC BASKET WIC...|      60|2011-06-10 15:28:00|    649.5|     15098|United Kingdom|\n",
      "+---------+---------+--------------------+--------+-------------------+---------+----------+--------------+\n",
      "\n",
      "+---------+---------+--------------------+--------+-------------------+---------+----------+--------------+\n",
      "|InvoiceNo|StockCode|         Description|Quantity|        InvoiceDate|UnitPrice|CustomerId|       Country|\n",
      "+---------+---------+--------------------+--------+-------------------+---------+----------+--------------+\n",
      "|   556444|    22502|PICNIC BASKET WIC...|      60|2011-06-10 15:28:00|    649.5|     15098|United Kingdom|\n",
      "+---------+---------+--------------------+--------+-------------------+---------+----------+--------------+\n",
      "\n"
     ]
    }
   ],
   "source": [
    "from pyspark.sql.functions import col\n",
    "\n",
    "# select invoice lines with quantity > 50 and unitprice > 20\n",
    "df.where(col(\"Quantity\") > 20).where(col(\"UnitPrice\") > 50).show(2)\n",
    "df.filter(df.Quantity > 20).filter(df.UnitPrice > 50).show(2)\n",
    "df.filter(\"Quantity > 20 and UnitPrice > 50\").show(2)"
   ]
  },
  {
   "cell_type": "code",
   "execution_count": 16,
   "id": "e723185f-8863-46e4-b48d-6732e2194aa3",
   "metadata": {},
   "outputs": [
    {
     "name": "stdout",
     "output_type": "stream",
     "text": [
      "+---------+---------+--------------------+--------+-------------------+---------+----------+--------------+\n",
      "|InvoiceNo|StockCode|         Description|Quantity|        InvoiceDate|UnitPrice|CustomerId|       Country|\n",
      "+---------+---------+--------------------+--------+-------------------+---------+----------+--------------+\n",
      "|   536378|    21212|PACK OF 72 RETROS...|     120|2010-12-01 09:37:00|     0.42|     14688|United Kingdom|\n",
      "|     NULL|        D|            Discount|      -1|2010-12-01 09:41:00|     27.5|     14527|United Kingdom|\n",
      "+---------+---------+--------------------+--------+-------------------+---------+----------+--------------+\n",
      "only showing top 2 rows\n"
     ]
    }
   ],
   "source": [
    "# select invoice lines with quantity > 100 or unitprice > 20\n",
    "df.where((col(\"Quantity\") > 100) | (col(\"UnitPrice\") > 20)).show(2)"
   ]
  },
  {
   "cell_type": "code",
   "execution_count": 17,
   "id": "6243793d-fd94-4f90-8f47-16f06d9c76c0",
   "metadata": {},
   "outputs": [
    {
     "name": "stdout",
     "output_type": "stream",
     "text": [
      "+---------+---------+---------------+--------+-------------------+---------+----------+--------------+\n",
      "|InvoiceNo|StockCode|    Description|Quantity|        InvoiceDate|UnitPrice|CustomerId|       Country|\n",
      "+---------+---------+---------------+--------+-------------------+---------+----------+--------------+\n",
      "|     NULL|        B|Adjust bad debt|       1|2011-08-12 14:51:00|-11062.06|      NULL|United Kingdom|\n",
      "|     NULL|        B|Adjust bad debt|       1|2011-08-12 14:52:00|-11062.06|      NULL|United Kingdom|\n",
      "+---------+---------+---------------+--------+-------------------+---------+----------+--------------+\n",
      "only showing top 2 rows\n",
      "+---------+---------+--------------------+--------+-------------------+---------+----------+--------------+\n",
      "|InvoiceNo|StockCode|         Description|Quantity|        InvoiceDate|UnitPrice|CustomerId|       Country|\n",
      "+---------+---------+--------------------+--------+-------------------+---------+----------+--------------+\n",
      "|   581483|    23843|PAPER CRAFT , LIT...|   80995|2011-12-09 09:15:00|     2.08|     16446|United Kingdom|\n",
      "|   541431|    23166|MEDIUM CERAMIC TO...|   74215|2011-01-18 10:01:00|     1.04|     12346|United Kingdom|\n",
      "|   578841|    84826|ASSTD DESIGN 3D P...|   12540|2011-11-25 15:57:00|      0.0|     13256|United Kingdom|\n",
      "|   542504|    37413|                NULL|    5568|2011-01-28 12:03:00|      0.0|      NULL|United Kingdom|\n",
      "|   573008|    84077|WORLD WAR 2 GLIDE...|    4800|2011-10-27 12:26:00|     0.21|     12901|United Kingdom|\n",
      "|   554868|    22197|SMALL POPCORN HOLDER|    4300|2011-05-27 10:52:00|     0.72|     13135|United Kingdom|\n",
      "|   556231|   85123A|                   ?|    4000|2011-06-09 15:04:00|      0.0|      NULL|United Kingdom|\n",
      "|   544612|    22053|EMPIRE DESIGN ROS...|    3906|2011-02-22 10:43:00|     0.82|     18087|United Kingdom|\n",
      "|   560599|    18007|ESSENTIAL BALM 3....|    3186|2011-07-19 17:04:00|     0.06|     14609|United Kingdom|\n",
      "|   550461|    21108|FAIRY CAKE FLANNE...|    3114|2011-04-18 13:20:00|      2.1|     15749|United Kingdom|\n",
      "+---------+---------+--------------------+--------+-------------------+---------+----------+--------------+\n",
      "only showing top 10 rows\n"
     ]
    }
   ],
   "source": [
    "from pyspark.sql.functions import desc, asc\n",
    "\n",
    "# sort in the default order: ascending\n",
    "df.orderBy(expr(\"UnitPrice\")).show(2)\n",
    "\n",
    "df.orderBy(col(\"Quantity\").desc(), col(\"UnitPrice\").asc()).show(10)"
   ]
  },
  {
   "cell_type": "markdown",
   "id": "deceeb98-cfef-41a2-8d6e-ce4b2db4d77a",
   "metadata": {},
   "source": [
    "## Hands-On 4 - Spark Transformations - aggregations"
   ]
  },
  {
   "cell_type": "markdown",
   "id": "971c6e1d-9694-4e1a-b863-94bb8dcddff9",
   "metadata": {},
   "source": [
    "Built int functions - https://spark.apache.org/docs/latest/api/python/reference/pyspark.sql.html#functions"
   ]
  },
  {
   "cell_type": "code",
   "execution_count": 18,
   "id": "ced072ce-09f3-4924-b00f-0ae5ac8acb9f",
   "metadata": {},
   "outputs": [
    {
     "name": "stdout",
     "output_type": "stream",
     "text": [
      "+--------------------------+\n",
      "|count(DISTINCT CustomerID)|\n",
      "+--------------------------+\n",
      "|                      4372|\n",
      "+--------------------------+\n",
      "\n",
      "CPU times: user 8.38 ms, sys: 2.21 ms, total: 10.6 ms\n",
      "Wall time: 3.44 s\n"
     ]
    }
   ],
   "source": [
    "%%time\n",
    "# Count distinct customers\n",
    "from pyspark.sql.functions import countDistinct\n",
    "df.select(countDistinct(\"CustomerID\")).show()"
   ]
  },
  {
   "cell_type": "code",
   "execution_count": 19,
   "id": "92432c31-5bd6-48ba-8dc9-089f514088e9",
   "metadata": {},
   "outputs": [
    {
     "name": "stdout",
     "output_type": "stream",
     "text": [
      "+---------------------------------+\n",
      "|approx_count_distinct(CustomerID)|\n",
      "+---------------------------------+\n",
      "|                             4336|\n",
      "+---------------------------------+\n",
      "\n",
      "CPU times: user 0 ns, sys: 27.9 ms, total: 27.9 ms\n",
      "Wall time: 2.33 s\n"
     ]
    }
   ],
   "source": [
    "%%time\n",
    "# approx. distinct stock items\n",
    "from pyspark.sql.functions import approx_count_distinct\n",
    "df.select(approx_count_distinct(\"CustomerID\", 0.1)).show()"
   ]
  },
  {
   "cell_type": "code",
   "execution_count": 20,
   "id": "5f04fdde-bba8-425b-a092-8378ae5d75a8",
   "metadata": {},
   "outputs": [
    {
     "name": "stdout",
     "output_type": "stream",
     "text": [
      "+----------------+-------------+-------------+\n",
      "|   avg_purchases|max_purchases|min_purchases|\n",
      "+----------------+-------------+-------------+\n",
      "|9.55224954743324|        80995|       -80995|\n",
      "+----------------+-------------+-------------+\n",
      "\n"
     ]
    }
   ],
   "source": [
    "# average, maximum and minimum purchase quantity\n",
    "from pyspark.sql.functions import avg, max, min\n",
    "( df.select(\n",
    "    avg(\"Quantity\").alias(\"avg_purchases\"),\n",
    "    max(\"Quantity\").alias(\"max_purchases\"),\n",
    "    min(\"Quantity\").alias(\"min_purchases\"))\n",
    "   .show()\n",
    ")"
   ]
  },
  {
   "cell_type": "markdown",
   "id": "23e97cd4-650d-4e50-a36c-2e4a5a3ff7a0",
   "metadata": {},
   "source": [
    "## Hands-On 5 - Spark Transformations - grouping and windows"
   ]
  },
  {
   "cell_type": "code",
   "execution_count": 21,
   "id": "3905ec84-a405-4a12-9294-4aedbc813f46",
   "metadata": {},
   "outputs": [
    {
     "name": "stdout",
     "output_type": "stream",
     "text": [
      "+---------+----------+-----+\n",
      "|InvoiceNo|CustomerId|count|\n",
      "+---------+----------+-----+\n",
      "|   536573|     17025|    4|\n",
      "|   537228|     17677|    1|\n",
      "|   537419|     13495|   14|\n",
      "|   538093|     12682|   33|\n",
      "|   538648|     17937|    5|\n",
      "+---------+----------+-----+\n",
      "only showing top 5 rows\n",
      "+---------+------------------+--------------------+\n",
      "|InvoiceNo|     avg(Quantity)|stddev_pop(Quantity)|\n",
      "+---------+------------------+--------------------+\n",
      "|   536532| 25.36986301369863|  16.850272831671976|\n",
      "|   537632|               1.0|                 0.0|\n",
      "|   538708| 10.61111111111111|   7.150282736359209|\n",
      "|   538877|14.258278145695364|   27.56989037543246|\n",
      "|   538993| 9.333333333333334|   2.748737083745107|\n",
      "+---------+------------------+--------------------+\n",
      "only showing top 5 rows\n"
     ]
    }
   ],
   "source": [
    "# count of items on the invoice\n",
    "df.groupBy(\"InvoiceNo\", \"CustomerId\").count().show(5)\n",
    "\n",
    "# grouping with expressions\n",
    "df.groupBy(\"InvoiceNo\").agg(expr(\"avg(Quantity)\"),expr(\"stddev_pop(Quantity)\"))\\\n",
    "  .show(5)"
   ]
  },
  {
   "cell_type": "code",
   "execution_count": null,
   "id": "d9ac403e-5567-4d08-abf8-cb94365384a8",
   "metadata": {},
   "outputs": [],
   "source": []
  }
 ],
 "metadata": {
  "kernelspec": {
   "display_name": "Python 3 (ipykernel)",
   "language": "python",
   "name": "python3"
  },
  "language_info": {
   "codemirror_mode": {
    "name": "ipython",
    "version": 3
   },
   "file_extension": ".py",
   "mimetype": "text/x-python",
   "name": "python",
   "nbconvert_exporter": "python",
   "pygments_lexer": "ipython3",
   "version": "3.13.3"
  }
 },
 "nbformat": 4,
 "nbformat_minor": 5
}
